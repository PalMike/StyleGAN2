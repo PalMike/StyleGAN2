{
 "cells": [
  {
   "cell_type": "code",
   "execution_count": 1,
   "id": "164393ab-8930-42fc-9179-be9c9e31c0a6",
   "metadata": {
    "execution": {
     "iopub.execute_input": "2023-01-13T19:12:47.445793Z",
     "iopub.status.busy": "2023-01-13T19:12:47.444411Z",
     "iopub.status.idle": "2023-01-13T19:12:48.079402Z",
     "shell.execute_reply": "2023-01-13T19:12:48.078506Z",
     "shell.execute_reply.started": "2023-01-13T19:12:47.445648Z"
    }
   },
   "outputs": [
    {
     "name": "stdout",
     "output_type": "stream",
     "text": [
      "Dockerfile    dataset_tool.py  pretrained_networks.py  run_projector.py\n",
      "LICENSE.txt   dnnlib\t       projector.py\t       run_training.py\n",
      "README.md     docs\t       run_generator.py        test_nvcc.cu\n",
      "basher.ipynb  metrics\t       run_metrics.py\t       training\n"
     ]
    }
   ],
   "source": [
    "!cd /notebooks && ls"
   ]
  },
  {
   "cell_type": "code",
   "execution_count": 2,
   "id": "94ce0056-7c63-4026-95a8-51bb237e9b36",
   "metadata": {
    "execution": {
     "iopub.execute_input": "2023-01-13T19:13:36.115972Z",
     "iopub.status.busy": "2023-01-13T19:13:36.115128Z",
     "iopub.status.idle": "2023-01-13T19:13:38.838678Z",
     "shell.execute_reply": "2023-01-13T19:13:38.837584Z",
     "shell.execute_reply.started": "2023-01-13T19:13:36.115935Z"
    }
   },
   "outputs": [],
   "source": [
    "!git config user.email mpalma"
   ]
  },
  {
   "cell_type": "code",
   "execution_count": 4,
   "id": "f3ab8c97-8fac-4987-bce8-1d62d7168706",
   "metadata": {
    "execution": {
     "iopub.execute_input": "2023-01-13T19:21:48.432497Z",
     "iopub.status.busy": "2023-01-13T19:21:48.432094Z",
     "iopub.status.idle": "2023-01-13T19:21:49.501281Z",
     "shell.execute_reply": "2023-01-13T19:21:49.500092Z",
     "shell.execute_reply.started": "2023-01-13T19:21:48.432466Z"
    }
   },
   "outputs": [
    {
     "name": "stdout",
     "output_type": "stream",
     "text": [
      "\n",
      "*** Please tell me who you are.\n",
      "\n",
      "Run\n",
      "\n",
      "  git config --global user.email \"you@example.com\"\n",
      "  git config --global user.name \"Your Name\"\n",
      "\n",
      "to set your account's default identity.\n",
      "Omit --global to set the identity only in this repository.\n",
      "\n",
      "fatal: unable to auto-detect email address (got 'root@nyc9i6zubh.(none)')\n"
     ]
    }
   ],
   "source": [
    "!git add basher.ipynb && git commit -m \"test2\" && git push"
   ]
  }
 ],
 "metadata": {
  "kernelspec": {
   "display_name": "Python 3 (ipykernel)",
   "language": "python",
   "name": "python3"
  },
  "language_info": {
   "codemirror_mode": {
    "name": "ipython",
    "version": 3
   },
   "file_extension": ".py",
   "mimetype": "text/x-python",
   "name": "python",
   "nbconvert_exporter": "python",
   "pygments_lexer": "ipython3",
   "version": "3.9.13"
  }
 },
 "nbformat": 4,
 "nbformat_minor": 5
}
